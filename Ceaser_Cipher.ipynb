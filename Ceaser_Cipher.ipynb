{
  "nbformat": 4,
  "nbformat_minor": 0,
  "metadata": {
    "colab": {
      "name": "Ceaser Cipher.ipynb",
      "provenance": [],
      "collapsed_sections": [],
      "authorship_tag": "ABX9TyM6oBE7oFAetTRWO2DwWiG6",
      "include_colab_link": true
    },
    "kernelspec": {
      "name": "python3",
      "display_name": "Python 3"
    },
    "language_info": {
      "name": "python"
    }
  },
  "cells": [
    {
      "cell_type": "markdown",
      "metadata": {
        "id": "view-in-github",
        "colab_type": "text"
      },
      "source": [
        "<a href=\"https://colab.research.google.com/github/MuraliKrishna1005/Ceaser-Cipher-Decoder/blob/main/Ceaser_Cipher.ipynb\" target=\"_parent\"><img src=\"https://colab.research.google.com/assets/colab-badge.svg\" alt=\"Open In Colab\"/></a>"
      ]
    },
    {
      "cell_type": "markdown",
      "source": [
        "Read the ```input.txt``` from the OS"
      ],
      "metadata": {
        "id": "Va_PMGq9QQOw"
      }
    },
    {
      "cell_type": "code",
      "execution_count": null,
      "metadata": {
        "colab": {
          "base_uri": "https://localhost:8080/"
        },
        "id": "jbEu9HAXzqzg",
        "outputId": "cdececcb-1f64-4718-aaf4-2645d1803abf"
      },
      "outputs": [
        {
          "output_type": "stream",
          "name": "stdout",
          "text": [
            "max gxp fhobxl ykhf ftkoxe ehhd utw uxvtnlx hy vzb\n"
          ]
        }
      ],
      "source": [
        "import os\n",
        "\n",
        "f = open('input.txt','r')\n",
        "line = f.readline()\n",
        "f.close()\n",
        "\n",
        "line = line.lower()\n",
        "print(line)"
      ]
    },
    {
      "cell_type": "markdown",
      "source": [
        "Cipher"
      ],
      "metadata": {
        "id": "rHw8T6tw0xob"
      }
    },
    {
      "cell_type": "code",
      "source": [
        "ciphers = []\n",
        "alpha = 'abcdefghijklmnopqrstuvwxyz'\n",
        "for k in range(26):\n",
        "  t = \"\"\n",
        "  for i in range(len(line)):\n",
        "    if line[i] != \" \":\n",
        "      t += (alpha[((alpha.index(line[i]))+k)%26])\n",
        "    else:\n",
        "      t += \" \"\n",
        "  ciphers.append(t)"
      ],
      "metadata": {
        "id": "-zWjWCBf0udp"
      },
      "execution_count": null,
      "outputs": []
    },
    {
      "cell_type": "code",
      "source": [
        "for i in range(len(ciphers)):\n",
        "  print(i, ciphers[i])"
      ],
      "metadata": {
        "colab": {
          "base_uri": "https://localhost:8080/"
        },
        "id": "jFcu7pDTBJnf",
        "outputId": "9335795c-9052-4a11-f7d1-d341e736bf73"
      },
      "execution_count": null,
      "outputs": [
        {
          "output_type": "stream",
          "name": "stdout",
          "text": [
            "0 max gxp fhobxl ykhf ftkoxe ehhd utw uxvtnlx hy vzb\n",
            "1 nby hyq gipcym zlig gulpyf fiie vux vywuomy iz wac\n",
            "2 ocz izr hjqdzn amjh hvmqzg gjjf wvy wzxvpnz ja xbd\n",
            "3 pda jas ikreao bnki iwnrah hkkg xwz xaywqoa kb yce\n",
            "4 qeb kbt jlsfbp colj jxosbi illh yxa ybzxrpb lc zdf\n",
            "5 rfc lcu kmtgcq dpmk kyptcj jmmi zyb zcaysqc md aeg\n",
            "6 sgd mdv lnuhdr eqnl lzqudk knnj azc adbztrd ne bfh\n",
            "7 the new movies from marvel look bad because of cgi\n",
            "8 uif ofx npwjft gspn nbswfm mppl cbe cfdbvtf pg dhj\n",
            "9 vjg pgy oqxkgu htqo octxgn nqqm dcf dgecwug qh eik\n",
            "10 wkh qhz prylhv iurp pduyho orrn edg ehfdxvh ri fjl\n",
            "11 xli ria qszmiw jvsq qevzip psso feh figeywi sj gkm\n",
            "12 ymj sjb rtanjx kwtr rfwajq qttp gfi gjhfzxj tk hln\n",
            "13 znk tkc suboky lxus sgxbkr ruuq hgj hkigayk ul imo\n",
            "14 aol uld tvcplz myvt thycls svvr ihk iljhbzl vm jnp\n",
            "15 bpm vme uwdqma nzwu uizdmt twws jil jmkicam wn koq\n",
            "16 cqn wnf vxernb oaxv vjaenu uxxt kjm knljdbn xo lpr\n",
            "17 dro xog wyfsoc pbyw wkbfov vyyu lkn lomkeco yp mqs\n",
            "18 esp yph xzgtpd qczx xlcgpw wzzv mlo mpnlfdp zq nrt\n",
            "19 ftq zqi yahuqe rday ymdhqx xaaw nmp nqomgeq ar osu\n",
            "20 gur arj zbivrf sebz zneiry ybbx onq orpnhfr bs ptv\n",
            "21 hvs bsk acjwsg tfca aofjsz zccy por psqoigs ct quw\n",
            "22 iwt ctl bdkxth ugdb bpgkta addz qps qtrpjht du rvx\n",
            "23 jxu dum celyui vhec cqhlub beea rqt rusqkiu ev swy\n",
            "24 kyv evn dfmzvj wifd drimvc cffb sru svtrljv fw txz\n",
            "25 lzw fwo egnawk xjge esjnwd dggc tsv twusmkw gx uya\n"
          ]
        }
      ]
    },
    {
      "cell_type": "markdown",
      "source": [
        "Look for meaningful words"
      ],
      "metadata": {
        "id": "eOOUOZHQQXy3"
      }
    },
    {
      "cell_type": "code",
      "source": [
        "import nltk\n",
        "nltk.download('words')"
      ],
      "metadata": {
        "colab": {
          "base_uri": "https://localhost:8080/"
        },
        "id": "YZOFttuCGjsV",
        "outputId": "74c0489a-ed56-462f-9b61-1f3b29e51137"
      },
      "execution_count": null,
      "outputs": [
        {
          "output_type": "stream",
          "name": "stderr",
          "text": [
            "[nltk_data] Downloading package words to /root/nltk_data...\n",
            "[nltk_data]   Package words is already up-to-date!\n"
          ]
        },
        {
          "output_type": "execute_result",
          "data": {
            "text/plain": [
              "True"
            ]
          },
          "metadata": {},
          "execution_count": 143
        }
      ]
    },
    {
      "cell_type": "code",
      "source": [
        "def score(sentance):\n",
        "  count = 0\n",
        "  akshar =sentance.split()\n",
        "  cache =''\n",
        "\n",
        "  for i in range(len(akshar)):\n",
        "    if akshar[i] in words.words():\n",
        "      count+=1\n",
        "  return (count/len(akshar))"
      ],
      "metadata": {
        "id": "Exet3YnxDpHr"
      },
      "execution_count": null,
      "outputs": []
    },
    {
      "cell_type": "code",
      "source": [
        "rank = []\n",
        "for i in range(len(ciphers)):\n",
        "  r = score(ciphers[i])\n",
        "  rank.append((r,i))\n",
        "print (rank)"
      ],
      "metadata": {
        "colab": {
          "base_uri": "https://localhost:8080/"
        },
        "id": "LTcnBQzpE6Wn",
        "outputId": "4eee9689-4321-41f0-e47a-66de8cebac46"
      },
      "execution_count": null,
      "outputs": [
        {
          "output_type": "stream",
          "name": "stdout",
          "text": [
            "[(0.0, 0), (0.0, 1), (0.0, 2), (0.0, 3), (0.0, 4), (0.0, 5), (0.1, 6), (0.8, 7), (0.0, 8), (0.0, 9), (0.0, 10), (0.1, 11), (0.0, 12), (0.0, 13), (0.0, 14), (0.0, 15), (0.0, 16), (0.0, 17), (0.0, 18), (0.1, 19), (0.1, 20), (0.0, 21), (0.0, 22), (0.1, 23), (0.0, 24), (0.0, 25)]\n"
          ]
        }
      ]
    },
    {
      "cell_type": "markdown",
      "source": [
        "Find the Answer"
      ],
      "metadata": {
        "id": "w6aeDo4WQdCs"
      }
    },
    {
      "cell_type": "code",
      "source": [
        "max = 0\n",
        "index = -1\n",
        "for i in range(len(rank)):\n",
        "  if rank[i][0] > max:\n",
        "    max = rank[i][0]\n",
        "    index = rank[i][1]\n",
        "\n",
        "print(f'Key: {index} \\nMessage: {ciphers[index]}\\nScore: {max}')"
      ],
      "metadata": {
        "colab": {
          "base_uri": "https://localhost:8080/"
        },
        "id": "T8tzN3_iJ2Lr",
        "outputId": "f95af4be-020e-4e19-8695-9917987cec4c"
      },
      "execution_count": null,
      "outputs": [
        {
          "output_type": "stream",
          "name": "stdout",
          "text": [
            "Key: 7 \n",
            "Message: the new movies from marvel look bad because of cgi\n",
            "Score: 0.8\n"
          ]
        }
      ]
    }
  ]
}